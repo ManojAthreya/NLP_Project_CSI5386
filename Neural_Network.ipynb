{
 "cells": [
  {
   "cell_type": "code",
   "execution_count": 5,
   "metadata": {
    "id": "4klTXxxa31a7"
   },
   "outputs": [],
   "source": [
    "import pandas as pd\n",
    "from sklearn.feature_extraction.text import CountVectorizer\n",
    "from sklearn.feature_extraction.text import TfidfVectorizer\n",
    "from sklearn.model_selection import train_test_split\n",
    "from sklearn.neural_network import MLPClassifier\n",
    "from sklearn import metrics\n",
    "from sklearn.metrics import f1_score, precision_score, recall_score"
   ]
  },
  {
   "cell_type": "code",
   "execution_count": 4,
   "metadata": {
    "colab": {
     "base_uri": "https://localhost:8080/"
    },
    "id": "CaEOSZ9ch8z1",
    "outputId": "f092b7fb-31f5-4898-940d-9aabd8d54992"
   },
   "outputs": [
    {
     "name": "stdout",
     "output_type": "stream",
     "text": [
      "Drive already mounted at /content/drive; to attempt to forcibly remount, call drive.mount(\"/content/drive\", force_remount=True).\n"
     ]
    }
   ],
   "source": [
    "from google.colab import drive\n",
    "drive.mount('/content/drive')"
   ]
  },
  {
   "cell_type": "code",
   "execution_count": 6,
   "metadata": {
    "colab": {
     "base_uri": "https://localhost:8080/",
     "height": 206
    },
    "id": "F1qWEZBl4BBG",
    "outputId": "5b04a868-ee81-48a7-f880-721b4303b606"
   },
   "outputs": [
    {
     "data": {
      "text/html": [
       "\n",
       "  <div id=\"df-e96d97e4-82ea-4052-9cfd-b0b6afac0e93\">\n",
       "    <div class=\"colab-df-container\">\n",
       "      <div>\n",
       "<style scoped>\n",
       "    .dataframe tbody tr th:only-of-type {\n",
       "        vertical-align: middle;\n",
       "    }\n",
       "\n",
       "    .dataframe tbody tr th {\n",
       "        vertical-align: top;\n",
       "    }\n",
       "\n",
       "    .dataframe thead th {\n",
       "        text-align: right;\n",
       "    }\n",
       "</style>\n",
       "<table border=\"1\" class=\"dataframe\">\n",
       "  <thead>\n",
       "    <tr style=\"text-align: right;\">\n",
       "      <th></th>\n",
       "      <th>Unnamed: 0</th>\n",
       "      <th>Title</th>\n",
       "      <th>Tags</th>\n",
       "      <th>tag_count</th>\n",
       "      <th>description</th>\n",
       "      <th>code</th>\n",
       "    </tr>\n",
       "  </thead>\n",
       "  <tbody>\n",
       "    <tr>\n",
       "      <th>0</th>\n",
       "      <td>0</td>\n",
       "      <td>how check uploaded file image without mime type</td>\n",
       "      <td>php</td>\n",
       "      <td>1</td>\n",
       "      <td>id like check uploaded file image file eg png ...</td>\n",
       "      <td>NaN</td>\n",
       "    </tr>\n",
       "    <tr>\n",
       "      <th>1</th>\n",
       "      <td>1</td>\n",
       "      <td>how i replace special characters url</td>\n",
       "      <td>c#</td>\n",
       "      <td>1</td>\n",
       "      <td>this probably simple i simply cannot find answ...</td>\n",
       "      <td>NaN</td>\n",
       "    </tr>\n",
       "    <tr>\n",
       "      <th>2</th>\n",
       "      <td>2</td>\n",
       "      <td>how fetch xml feed using aspnet</td>\n",
       "      <td>c# asp.net</td>\n",
       "      <td>2</td>\n",
       "      <td>ive decided convert windows phone app fetches ...</td>\n",
       "      <td>NaN</td>\n",
       "    </tr>\n",
       "    <tr>\n",
       "      <th>3</th>\n",
       "      <td>3</td>\n",
       "      <td>php framework url conventions</td>\n",
       "      <td>php</td>\n",
       "      <td>1</td>\n",
       "      <td>a lot frameworks use url conventions like grea...</td>\n",
       "      <td>/controller/action/{id}</td>\n",
       "    </tr>\n",
       "    <tr>\n",
       "      <th>4</th>\n",
       "      <td>4</td>\n",
       "      <td>play framework auto javascript css minifier</td>\n",
       "      <td>javascript</td>\n",
       "      <td>1</td>\n",
       "      <td>does anyone know good play plugin automaticall...</td>\n",
       "      <td>NaN</td>\n",
       "    </tr>\n",
       "  </tbody>\n",
       "</table>\n",
       "</div>\n",
       "      <button class=\"colab-df-convert\" onclick=\"convertToInteractive('df-e96d97e4-82ea-4052-9cfd-b0b6afac0e93')\"\n",
       "              title=\"Convert this dataframe to an interactive table.\"\n",
       "              style=\"display:none;\">\n",
       "        \n",
       "  <svg xmlns=\"http://www.w3.org/2000/svg\" height=\"24px\"viewBox=\"0 0 24 24\"\n",
       "       width=\"24px\">\n",
       "    <path d=\"M0 0h24v24H0V0z\" fill=\"none\"/>\n",
       "    <path d=\"M18.56 5.44l.94 2.06.94-2.06 2.06-.94-2.06-.94-.94-2.06-.94 2.06-2.06.94zm-11 1L8.5 8.5l.94-2.06 2.06-.94-2.06-.94L8.5 2.5l-.94 2.06-2.06.94zm10 10l.94 2.06.94-2.06 2.06-.94-2.06-.94-.94-2.06-.94 2.06-2.06.94z\"/><path d=\"M17.41 7.96l-1.37-1.37c-.4-.4-.92-.59-1.43-.59-.52 0-1.04.2-1.43.59L10.3 9.45l-7.72 7.72c-.78.78-.78 2.05 0 2.83L4 21.41c.39.39.9.59 1.41.59.51 0 1.02-.2 1.41-.59l7.78-7.78 2.81-2.81c.8-.78.8-2.07 0-2.86zM5.41 20L4 18.59l7.72-7.72 1.47 1.35L5.41 20z\"/>\n",
       "  </svg>\n",
       "      </button>\n",
       "      \n",
       "  <style>\n",
       "    .colab-df-container {\n",
       "      display:flex;\n",
       "      flex-wrap:wrap;\n",
       "      gap: 12px;\n",
       "    }\n",
       "\n",
       "    .colab-df-convert {\n",
       "      background-color: #E8F0FE;\n",
       "      border: none;\n",
       "      border-radius: 50%;\n",
       "      cursor: pointer;\n",
       "      display: none;\n",
       "      fill: #1967D2;\n",
       "      height: 32px;\n",
       "      padding: 0 0 0 0;\n",
       "      width: 32px;\n",
       "    }\n",
       "\n",
       "    .colab-df-convert:hover {\n",
       "      background-color: #E2EBFA;\n",
       "      box-shadow: 0px 1px 2px rgba(60, 64, 67, 0.3), 0px 1px 3px 1px rgba(60, 64, 67, 0.15);\n",
       "      fill: #174EA6;\n",
       "    }\n",
       "\n",
       "    [theme=dark] .colab-df-convert {\n",
       "      background-color: #3B4455;\n",
       "      fill: #D2E3FC;\n",
       "    }\n",
       "\n",
       "    [theme=dark] .colab-df-convert:hover {\n",
       "      background-color: #434B5C;\n",
       "      box-shadow: 0px 1px 3px 1px rgba(0, 0, 0, 0.15);\n",
       "      filter: drop-shadow(0px 1px 2px rgba(0, 0, 0, 0.3));\n",
       "      fill: #FFFFFF;\n",
       "    }\n",
       "  </style>\n",
       "\n",
       "      <script>\n",
       "        const buttonEl =\n",
       "          document.querySelector('#df-e96d97e4-82ea-4052-9cfd-b0b6afac0e93 button.colab-df-convert');\n",
       "        buttonEl.style.display =\n",
       "          google.colab.kernel.accessAllowed ? 'block' : 'none';\n",
       "\n",
       "        async function convertToInteractive(key) {\n",
       "          const element = document.querySelector('#df-e96d97e4-82ea-4052-9cfd-b0b6afac0e93');\n",
       "          const dataTable =\n",
       "            await google.colab.kernel.invokeFunction('convertToInteractive',\n",
       "                                                     [key], {});\n",
       "          if (!dataTable) return;\n",
       "\n",
       "          const docLinkHtml = 'Like what you see? Visit the ' +\n",
       "            '<a target=\"_blank\" href=https://colab.research.google.com/notebooks/data_table.ipynb>data table notebook</a>'\n",
       "            + ' to learn more about interactive tables.';\n",
       "          element.innerHTML = '';\n",
       "          dataTable['output_type'] = 'display_data';\n",
       "          await google.colab.output.renderOutput(dataTable, element);\n",
       "          const docLink = document.createElement('div');\n",
       "          docLink.innerHTML = docLinkHtml;\n",
       "          element.appendChild(docLink);\n",
       "        }\n",
       "      </script>\n",
       "    </div>\n",
       "  </div>\n",
       "  "
      ],
      "text/plain": [
       "   Unnamed: 0                                            Title         Tags  \\\n",
       "0           0  how check uploaded file image without mime type          php   \n",
       "1           1             how i replace special characters url           c#   \n",
       "2           2                  how fetch xml feed using aspnet   c# asp.net   \n",
       "3           3                    php framework url conventions          php   \n",
       "4           4      play framework auto javascript css minifier   javascript   \n",
       "\n",
       "   tag_count                                        description  \\\n",
       "0          1  id like check uploaded file image file eg png ...   \n",
       "1          1  this probably simple i simply cannot find answ...   \n",
       "2          2  ive decided convert windows phone app fetches ...   \n",
       "3          1  a lot frameworks use url conventions like grea...   \n",
       "4          1  does anyone know good play plugin automaticall...   \n",
       "\n",
       "                      code  \n",
       "0                      NaN  \n",
       "1                      NaN  \n",
       "2                      NaN  \n",
       "3  /controller/action/{id}  \n",
       "4                      NaN  "
      ]
     },
     "execution_count": 6,
     "metadata": {},
     "output_type": "execute_result"
    }
   ],
   "source": [
    "df = pd.read_csv(\"/content/drive/MyDrive/uOttawa/S1/NLP/project2/train_top_10_pp.csv\")\n",
    "df.head()"
   ]
  },
  {
   "cell_type": "code",
   "execution_count": 7,
   "metadata": {
    "colab": {
     "base_uri": "https://localhost:8080/"
    },
    "id": "uoZ1Kh3o4BD2",
    "outputId": "c56bcffa-c549-4e08-9c16-b0499e1926d0"
   },
   "outputs": [
    {
     "name": "stdout",
     "output_type": "stream",
     "text": [
      "(1898097, 6)\n",
      "(1898077, 6)\n"
     ]
    }
   ],
   "source": [
    "print(df.shape)\n",
    "\n",
    "df[\"code\"] = df[\"code\"].fillna(\"\")\n",
    "df[\"description\"] = df[\"description\"].fillna(\"\")\n",
    "df = df[df['Title'].notna()]\n",
    "print(df.shape)"
   ]
  },
  {
   "cell_type": "code",
   "execution_count": 8,
   "metadata": {
    "colab": {
     "base_uri": "https://localhost:8080/",
     "height": 423
    },
    "id": "_II5KAA7LDgv",
    "outputId": "aec3badb-9bc8-4e93-dd07-3d9ef2c174bc"
   },
   "outputs": [
    {
     "data": {
      "text/html": [
       "\n",
       "  <div id=\"df-47688c33-608f-43c4-b4bc-778dd0ac2f11\">\n",
       "    <div class=\"colab-df-container\">\n",
       "      <div>\n",
       "<style scoped>\n",
       "    .dataframe tbody tr th:only-of-type {\n",
       "        vertical-align: middle;\n",
       "    }\n",
       "\n",
       "    .dataframe tbody tr th {\n",
       "        vertical-align: top;\n",
       "    }\n",
       "\n",
       "    .dataframe thead th {\n",
       "        text-align: right;\n",
       "    }\n",
       "</style>\n",
       "<table border=\"1\" class=\"dataframe\">\n",
       "  <thead>\n",
       "    <tr style=\"text-align: right;\">\n",
       "      <th></th>\n",
       "      <th>Unnamed: 0</th>\n",
       "      <th>Title</th>\n",
       "      <th>Tags</th>\n",
       "      <th>tag_count</th>\n",
       "      <th>description</th>\n",
       "      <th>code</th>\n",
       "    </tr>\n",
       "  </thead>\n",
       "  <tbody>\n",
       "    <tr>\n",
       "      <th>0</th>\n",
       "      <td>0</td>\n",
       "      <td>how check uploaded file image without mime type</td>\n",
       "      <td>php</td>\n",
       "      <td>1</td>\n",
       "      <td>id like check uploaded file image file eg png ...</td>\n",
       "      <td></td>\n",
       "    </tr>\n",
       "    <tr>\n",
       "      <th>1</th>\n",
       "      <td>1</td>\n",
       "      <td>how i replace special characters url</td>\n",
       "      <td>c#</td>\n",
       "      <td>1</td>\n",
       "      <td>this probably simple i simply cannot find answ...</td>\n",
       "      <td></td>\n",
       "    </tr>\n",
       "    <tr>\n",
       "      <th>2</th>\n",
       "      <td>2</td>\n",
       "      <td>how fetch xml feed using aspnet</td>\n",
       "      <td>c# asp.net</td>\n",
       "      <td>2</td>\n",
       "      <td>ive decided convert windows phone app fetches ...</td>\n",
       "      <td></td>\n",
       "    </tr>\n",
       "    <tr>\n",
       "      <th>3</th>\n",
       "      <td>3</td>\n",
       "      <td>php framework url conventions</td>\n",
       "      <td>php</td>\n",
       "      <td>1</td>\n",
       "      <td>a lot frameworks use url conventions like grea...</td>\n",
       "      <td>/controller/action/{id}</td>\n",
       "    </tr>\n",
       "    <tr>\n",
       "      <th>4</th>\n",
       "      <td>4</td>\n",
       "      <td>play framework auto javascript css minifier</td>\n",
       "      <td>javascript</td>\n",
       "      <td>1</td>\n",
       "      <td>does anyone know good play plugin automaticall...</td>\n",
       "      <td></td>\n",
       "    </tr>\n",
       "    <tr>\n",
       "      <th>...</th>\n",
       "      <td>...</td>\n",
       "      <td>...</td>\n",
       "      <td>...</td>\n",
       "      <td>...</td>\n",
       "      <td>...</td>\n",
       "      <td>...</td>\n",
       "    </tr>\n",
       "    <tr>\n",
       "      <th>1898092</th>\n",
       "      <td>1898092</td>\n",
       "      <td>need help friendly urls wordpress</td>\n",
       "      <td>php</td>\n",
       "      <td>1</td>\n",
       "      <td>im creating som custom templates wordpress im ...</td>\n",
       "      <td>/%category%/%postname%/</td>\n",
       "    </tr>\n",
       "    <tr>\n",
       "      <th>1898093</th>\n",
       "      <td>1898093</td>\n",
       "      <td>bitwise subtraction</td>\n",
       "      <td>c#</td>\n",
       "      <td>1</td>\n",
       "      <td>given enum if i know foo contains previously i...</td>\n",
       "      <td>c</td>\n",
       "    </tr>\n",
       "    <tr>\n",
       "      <th>1898094</th>\n",
       "      <td>1898094</td>\n",
       "      <td>javascript resize every image load</td>\n",
       "      <td>php javascript</td>\n",
       "      <td>2</td>\n",
       "      <td>ive got code i want resize function called eve...</td>\n",
       "      <td></td>\n",
       "    </tr>\n",
       "    <tr>\n",
       "      <th>1898095</th>\n",
       "      <td>1898095</td>\n",
       "      <td>update database big csv</td>\n",
       "      <td>php</td>\n",
       "      <td>1</td>\n",
       "      <td>i need every day update items mysql i upload c...</td>\n",
       "      <td></td>\n",
       "    </tr>\n",
       "    <tr>\n",
       "      <th>1898096</th>\n",
       "      <td>1898096</td>\n",
       "      <td>difficulty adding new view roogenerated project</td>\n",
       "      <td>java</td>\n",
       "      <td>1</td>\n",
       "      <td>im trying add custom view controller very basi...</td>\n",
       "      <td></td>\n",
       "    </tr>\n",
       "  </tbody>\n",
       "</table>\n",
       "<p>1898077 rows × 6 columns</p>\n",
       "</div>\n",
       "      <button class=\"colab-df-convert\" onclick=\"convertToInteractive('df-47688c33-608f-43c4-b4bc-778dd0ac2f11')\"\n",
       "              title=\"Convert this dataframe to an interactive table.\"\n",
       "              style=\"display:none;\">\n",
       "        \n",
       "  <svg xmlns=\"http://www.w3.org/2000/svg\" height=\"24px\"viewBox=\"0 0 24 24\"\n",
       "       width=\"24px\">\n",
       "    <path d=\"M0 0h24v24H0V0z\" fill=\"none\"/>\n",
       "    <path d=\"M18.56 5.44l.94 2.06.94-2.06 2.06-.94-2.06-.94-.94-2.06-.94 2.06-2.06.94zm-11 1L8.5 8.5l.94-2.06 2.06-.94-2.06-.94L8.5 2.5l-.94 2.06-2.06.94zm10 10l.94 2.06.94-2.06 2.06-.94-2.06-.94-.94-2.06-.94 2.06-2.06.94z\"/><path d=\"M17.41 7.96l-1.37-1.37c-.4-.4-.92-.59-1.43-.59-.52 0-1.04.2-1.43.59L10.3 9.45l-7.72 7.72c-.78.78-.78 2.05 0 2.83L4 21.41c.39.39.9.59 1.41.59.51 0 1.02-.2 1.41-.59l7.78-7.78 2.81-2.81c.8-.78.8-2.07 0-2.86zM5.41 20L4 18.59l7.72-7.72 1.47 1.35L5.41 20z\"/>\n",
       "  </svg>\n",
       "      </button>\n",
       "      \n",
       "  <style>\n",
       "    .colab-df-container {\n",
       "      display:flex;\n",
       "      flex-wrap:wrap;\n",
       "      gap: 12px;\n",
       "    }\n",
       "\n",
       "    .colab-df-convert {\n",
       "      background-color: #E8F0FE;\n",
       "      border: none;\n",
       "      border-radius: 50%;\n",
       "      cursor: pointer;\n",
       "      display: none;\n",
       "      fill: #1967D2;\n",
       "      height: 32px;\n",
       "      padding: 0 0 0 0;\n",
       "      width: 32px;\n",
       "    }\n",
       "\n",
       "    .colab-df-convert:hover {\n",
       "      background-color: #E2EBFA;\n",
       "      box-shadow: 0px 1px 2px rgba(60, 64, 67, 0.3), 0px 1px 3px 1px rgba(60, 64, 67, 0.15);\n",
       "      fill: #174EA6;\n",
       "    }\n",
       "\n",
       "    [theme=dark] .colab-df-convert {\n",
       "      background-color: #3B4455;\n",
       "      fill: #D2E3FC;\n",
       "    }\n",
       "\n",
       "    [theme=dark] .colab-df-convert:hover {\n",
       "      background-color: #434B5C;\n",
       "      box-shadow: 0px 1px 3px 1px rgba(0, 0, 0, 0.15);\n",
       "      filter: drop-shadow(0px 1px 2px rgba(0, 0, 0, 0.3));\n",
       "      fill: #FFFFFF;\n",
       "    }\n",
       "  </style>\n",
       "\n",
       "      <script>\n",
       "        const buttonEl =\n",
       "          document.querySelector('#df-47688c33-608f-43c4-b4bc-778dd0ac2f11 button.colab-df-convert');\n",
       "        buttonEl.style.display =\n",
       "          google.colab.kernel.accessAllowed ? 'block' : 'none';\n",
       "\n",
       "        async function convertToInteractive(key) {\n",
       "          const element = document.querySelector('#df-47688c33-608f-43c4-b4bc-778dd0ac2f11');\n",
       "          const dataTable =\n",
       "            await google.colab.kernel.invokeFunction('convertToInteractive',\n",
       "                                                     [key], {});\n",
       "          if (!dataTable) return;\n",
       "\n",
       "          const docLinkHtml = 'Like what you see? Visit the ' +\n",
       "            '<a target=\"_blank\" href=https://colab.research.google.com/notebooks/data_table.ipynb>data table notebook</a>'\n",
       "            + ' to learn more about interactive tables.';\n",
       "          element.innerHTML = '';\n",
       "          dataTable['output_type'] = 'display_data';\n",
       "          await google.colab.output.renderOutput(dataTable, element);\n",
       "          const docLink = document.createElement('div');\n",
       "          docLink.innerHTML = docLinkHtml;\n",
       "          element.appendChild(docLink);\n",
       "        }\n",
       "      </script>\n",
       "    </div>\n",
       "  </div>\n",
       "  "
      ],
      "text/plain": [
       "         Unnamed: 0                                            Title  \\\n",
       "0                 0  how check uploaded file image without mime type   \n",
       "1                 1             how i replace special characters url   \n",
       "2                 2                  how fetch xml feed using aspnet   \n",
       "3                 3                    php framework url conventions   \n",
       "4                 4      play framework auto javascript css minifier   \n",
       "...             ...                                              ...   \n",
       "1898092     1898092                need help friendly urls wordpress   \n",
       "1898093     1898093                              bitwise subtraction   \n",
       "1898094     1898094               javascript resize every image load   \n",
       "1898095     1898095                          update database big csv   \n",
       "1898096     1898096  difficulty adding new view roogenerated project   \n",
       "\n",
       "                    Tags  tag_count  \\\n",
       "0                    php          1   \n",
       "1                     c#          1   \n",
       "2             c# asp.net          2   \n",
       "3                    php          1   \n",
       "4             javascript          1   \n",
       "...                  ...        ...   \n",
       "1898092              php          1   \n",
       "1898093               c#          1   \n",
       "1898094   php javascript          2   \n",
       "1898095              php          1   \n",
       "1898096             java          1   \n",
       "\n",
       "                                               description  \\\n",
       "0        id like check uploaded file image file eg png ...   \n",
       "1        this probably simple i simply cannot find answ...   \n",
       "2        ive decided convert windows phone app fetches ...   \n",
       "3        a lot frameworks use url conventions like grea...   \n",
       "4        does anyone know good play plugin automaticall...   \n",
       "...                                                    ...   \n",
       "1898092  im creating som custom templates wordpress im ...   \n",
       "1898093  given enum if i know foo contains previously i...   \n",
       "1898094  ive got code i want resize function called eve...   \n",
       "1898095  i need every day update items mysql i upload c...   \n",
       "1898096  im trying add custom view controller very basi...   \n",
       "\n",
       "                            code  \n",
       "0                                 \n",
       "1                                 \n",
       "2                                 \n",
       "3        /controller/action/{id}  \n",
       "4                                 \n",
       "...                          ...  \n",
       "1898092  /%category%/%postname%/  \n",
       "1898093                        c  \n",
       "1898094                           \n",
       "1898095                           \n",
       "1898096                           \n",
       "\n",
       "[1898077 rows x 6 columns]"
      ]
     },
     "execution_count": 8,
     "metadata": {},
     "output_type": "execute_result"
    }
   ],
   "source": [
    "df"
   ]
  },
  {
   "cell_type": "markdown",
   "metadata": {
    "id": "69Pw-mqoMfxA"
   },
   "source": [
    "**List of Tags**"
   ]
  },
  {
   "cell_type": "code",
   "execution_count": 9,
   "metadata": {
    "id": "2304dyhVMRCd"
   },
   "outputs": [],
   "source": [
    "vectorizer = CountVectorizer(tokenizer = lambda x: x.split())\n",
    "tag_bow = vectorizer.fit_transform(df['Tags'])"
   ]
  },
  {
   "cell_type": "code",
   "execution_count": 10,
   "metadata": {
    "colab": {
     "base_uri": "https://localhost:8080/"
    },
    "id": "GPQqGlQ5Mk6O",
    "outputId": "f6ce98d3-8cd7-4336-c1a7-5e0470b25edf"
   },
   "outputs": [
    {
     "name": "stderr",
     "output_type": "stream",
     "text": [
      "/usr/local/lib/python3.8/dist-packages/sklearn/utils/deprecation.py:87: FutureWarning: Function get_feature_names is deprecated; get_feature_names is deprecated in 1.0 and will be removed in 1.2. Please use get_feature_names_out instead.\n",
      "  warnings.warn(msg, category=FutureWarning)\n"
     ]
    },
    {
     "data": {
      "text/plain": [
       "['android',\n",
       " 'asp.net',\n",
       " 'c#',\n",
       " 'c++',\n",
       " 'iphone',\n",
       " 'java',\n",
       " 'javascript',\n",
       " 'jquery',\n",
       " 'php',\n",
       " 'python']"
      ]
     },
     "execution_count": 10,
     "metadata": {},
     "output_type": "execute_result"
    }
   ],
   "source": [
    "tags = vectorizer.get_feature_names()\n",
    "tags"
   ]
  },
  {
   "cell_type": "code",
   "execution_count": 11,
   "metadata": {
    "colab": {
     "base_uri": "https://localhost:8080/"
    },
    "id": "fd9_vnUCaEld",
    "outputId": "6fb6b9f9-a274-41cb-857b-229d89d2129e"
   },
   "outputs": [
    {
     "data": {
      "text/plain": [
       "['android',\n",
       " 'asp.net',\n",
       " 'c#',\n",
       " 'c+',\n",
       " 'iphone',\n",
       " 'java',\n",
       " 'javascript',\n",
       " 'jquery',\n",
       " 'php',\n",
       " 'python']"
      ]
     },
     "execution_count": 11,
     "metadata": {},
     "output_type": "execute_result"
    }
   ],
   "source": [
    "tags[3] = \"c+\"\n",
    "tags"
   ]
  },
  {
   "cell_type": "markdown",
   "metadata": {
    "id": "MNfV3wsFN4Ol"
   },
   "source": [
    "**Extract 4000 Sentences for each tag**"
   ]
  },
  {
   "cell_type": "code",
   "execution_count": 12,
   "metadata": {
    "colab": {
     "base_uri": "https://localhost:8080/"
    },
    "id": "g26HhnsSZYhb",
    "outputId": "5f7afa1d-427a-4a92-c745-5d9279b725da"
   },
   "outputs": [
    {
     "data": {
      "text/plain": [
       "722903"
      ]
     },
     "execution_count": 12,
     "metadata": {},
     "output_type": "execute_result"
    }
   ],
   "source": [
    "new_df = df.loc[df['Tags'].str.contains(\"c+\")]\n",
    "len(new_df)"
   ]
  },
  {
   "cell_type": "code",
   "execution_count": 13,
   "metadata": {
    "colab": {
     "base_uri": "https://localhost:8080/"
    },
    "id": "ub92RF9aTG6u",
    "outputId": "efb86967-335d-4d14-b358-1091278bcb1d"
   },
   "outputs": [
    {
     "name": "stdout",
     "output_type": "stream",
     "text": [
      "232412\n",
      "4000\n",
      "android   4000\n",
      "4000\n",
      "asp.net   7997\n",
      "4000\n",
      "c#   11430\n",
      "4000\n",
      "c+   13603\n",
      "4000\n",
      "iphone   17552\n",
      "4000\n",
      "java   19767\n",
      "4000\n",
      "javascript   21723\n",
      "4000\n",
      "jquery   24321\n",
      "4000\n",
      "php   27828\n",
      "4000\n",
      "python   31740\n"
     ]
    }
   ],
   "source": [
    "new_df = df.loc[df['Tags'].str.contains('android', case=False)]\n",
    "print(len(new_df))\n",
    "dataset=new_df[:4000]\n",
    "#print(len(dataset))\n",
    "for tag in tags:\n",
    "  new_df = df.loc[df['Tags'].str.contains(tag)]\n",
    "  new_df = new_df[:4000]\n",
    "  print(len(new_df))\n",
    "  dataset = dataset.append(new_df)\n",
    "  dataset = dataset.drop_duplicates(keep='first')\n",
    "  print(tag,\" \",len(dataset))\n"
   ]
  },
  {
   "cell_type": "code",
   "execution_count": 14,
   "metadata": {
    "colab": {
     "base_uri": "https://localhost:8080/"
    },
    "id": "cotiJO_4N9q_",
    "outputId": "794833c6-f435-4622-d266-a770501e28aa"
   },
   "outputs": [
    {
     "data": {
      "text/plain": [
       "(31740, 6)"
      ]
     },
     "execution_count": 14,
     "metadata": {},
     "output_type": "execute_result"
    }
   ],
   "source": [
    "dataset.shape"
   ]
  },
  {
   "cell_type": "code",
   "execution_count": 15,
   "metadata": {
    "colab": {
     "base_uri": "https://localhost:8080/",
     "height": 206
    },
    "id": "Hw_4FqWLlPg0",
    "outputId": "a8c32727-0671-44df-c073-98522d88d99f"
   },
   "outputs": [
    {
     "data": {
      "text/html": [
       "\n",
       "  <div id=\"df-16638c36-9f11-432b-8446-ed7b7c5c2b46\">\n",
       "    <div class=\"colab-df-container\">\n",
       "      <div>\n",
       "<style scoped>\n",
       "    .dataframe tbody tr th:only-of-type {\n",
       "        vertical-align: middle;\n",
       "    }\n",
       "\n",
       "    .dataframe tbody tr th {\n",
       "        vertical-align: top;\n",
       "    }\n",
       "\n",
       "    .dataframe thead th {\n",
       "        text-align: right;\n",
       "    }\n",
       "</style>\n",
       "<table border=\"1\" class=\"dataframe\">\n",
       "  <thead>\n",
       "    <tr style=\"text-align: right;\">\n",
       "      <th></th>\n",
       "      <th>Unnamed: 0</th>\n",
       "      <th>Title</th>\n",
       "      <th>Tags</th>\n",
       "      <th>tag_count</th>\n",
       "      <th>description</th>\n",
       "      <th>code</th>\n",
       "    </tr>\n",
       "  </thead>\n",
       "  <tbody>\n",
       "    <tr>\n",
       "      <th>13</th>\n",
       "      <td>13</td>\n",
       "      <td>loadable kernel module notification manager</td>\n",
       "      <td>android</td>\n",
       "      <td>1</td>\n",
       "      <td>ive successfully created installed loadable ke...</td>\n",
       "      <td></td>\n",
       "    </tr>\n",
       "    <tr>\n",
       "      <th>45</th>\n",
       "      <td>45</td>\n",
       "      <td>eclipse indigo allow override non activity ove...</td>\n",
       "      <td>android</td>\n",
       "      <td>1</td>\n",
       "      <td>i using eclipse indigo android development the...</td>\n",
       "      <td></td>\n",
       "    </tr>\n",
       "    <tr>\n",
       "      <th>52</th>\n",
       "      <td>52</td>\n",
       "      <td>android v webview loaddatawithbaseurl load page</td>\n",
       "      <td>android</td>\n",
       "      <td>1</td>\n",
       "      <td>when im loading page using system load page on...</td>\n",
       "      <td>.loadData</td>\n",
       "    </tr>\n",
       "    <tr>\n",
       "      <th>54</th>\n",
       "      <td>54</td>\n",
       "      <td>android changing locale within app affect firs...</td>\n",
       "      <td>java android</td>\n",
       "      <td>2</td>\n",
       "      <td>i use code bellow setcontentview main activity...</td>\n",
       "      <td>Locale locale = new Locale(\"ar\");</td>\n",
       "    </tr>\n",
       "    <tr>\n",
       "      <th>58</th>\n",
       "      <td>58</td>\n",
       "      <td>android client socket unknowhostexception</td>\n",
       "      <td>java android</td>\n",
       "      <td>2</td>\n",
       "      <td>i working server application java multithreade...</td>\n",
       "      <td></td>\n",
       "    </tr>\n",
       "  </tbody>\n",
       "</table>\n",
       "</div>\n",
       "      <button class=\"colab-df-convert\" onclick=\"convertToInteractive('df-16638c36-9f11-432b-8446-ed7b7c5c2b46')\"\n",
       "              title=\"Convert this dataframe to an interactive table.\"\n",
       "              style=\"display:none;\">\n",
       "        \n",
       "  <svg xmlns=\"http://www.w3.org/2000/svg\" height=\"24px\"viewBox=\"0 0 24 24\"\n",
       "       width=\"24px\">\n",
       "    <path d=\"M0 0h24v24H0V0z\" fill=\"none\"/>\n",
       "    <path d=\"M18.56 5.44l.94 2.06.94-2.06 2.06-.94-2.06-.94-.94-2.06-.94 2.06-2.06.94zm-11 1L8.5 8.5l.94-2.06 2.06-.94-2.06-.94L8.5 2.5l-.94 2.06-2.06.94zm10 10l.94 2.06.94-2.06 2.06-.94-2.06-.94-.94-2.06-.94 2.06-2.06.94z\"/><path d=\"M17.41 7.96l-1.37-1.37c-.4-.4-.92-.59-1.43-.59-.52 0-1.04.2-1.43.59L10.3 9.45l-7.72 7.72c-.78.78-.78 2.05 0 2.83L4 21.41c.39.39.9.59 1.41.59.51 0 1.02-.2 1.41-.59l7.78-7.78 2.81-2.81c.8-.78.8-2.07 0-2.86zM5.41 20L4 18.59l7.72-7.72 1.47 1.35L5.41 20z\"/>\n",
       "  </svg>\n",
       "      </button>\n",
       "      \n",
       "  <style>\n",
       "    .colab-df-container {\n",
       "      display:flex;\n",
       "      flex-wrap:wrap;\n",
       "      gap: 12px;\n",
       "    }\n",
       "\n",
       "    .colab-df-convert {\n",
       "      background-color: #E8F0FE;\n",
       "      border: none;\n",
       "      border-radius: 50%;\n",
       "      cursor: pointer;\n",
       "      display: none;\n",
       "      fill: #1967D2;\n",
       "      height: 32px;\n",
       "      padding: 0 0 0 0;\n",
       "      width: 32px;\n",
       "    }\n",
       "\n",
       "    .colab-df-convert:hover {\n",
       "      background-color: #E2EBFA;\n",
       "      box-shadow: 0px 1px 2px rgba(60, 64, 67, 0.3), 0px 1px 3px 1px rgba(60, 64, 67, 0.15);\n",
       "      fill: #174EA6;\n",
       "    }\n",
       "\n",
       "    [theme=dark] .colab-df-convert {\n",
       "      background-color: #3B4455;\n",
       "      fill: #D2E3FC;\n",
       "    }\n",
       "\n",
       "    [theme=dark] .colab-df-convert:hover {\n",
       "      background-color: #434B5C;\n",
       "      box-shadow: 0px 1px 3px 1px rgba(0, 0, 0, 0.15);\n",
       "      filter: drop-shadow(0px 1px 2px rgba(0, 0, 0, 0.3));\n",
       "      fill: #FFFFFF;\n",
       "    }\n",
       "  </style>\n",
       "\n",
       "      <script>\n",
       "        const buttonEl =\n",
       "          document.querySelector('#df-16638c36-9f11-432b-8446-ed7b7c5c2b46 button.colab-df-convert');\n",
       "        buttonEl.style.display =\n",
       "          google.colab.kernel.accessAllowed ? 'block' : 'none';\n",
       "\n",
       "        async function convertToInteractive(key) {\n",
       "          const element = document.querySelector('#df-16638c36-9f11-432b-8446-ed7b7c5c2b46');\n",
       "          const dataTable =\n",
       "            await google.colab.kernel.invokeFunction('convertToInteractive',\n",
       "                                                     [key], {});\n",
       "          if (!dataTable) return;\n",
       "\n",
       "          const docLinkHtml = 'Like what you see? Visit the ' +\n",
       "            '<a target=\"_blank\" href=https://colab.research.google.com/notebooks/data_table.ipynb>data table notebook</a>'\n",
       "            + ' to learn more about interactive tables.';\n",
       "          element.innerHTML = '';\n",
       "          dataTable['output_type'] = 'display_data';\n",
       "          await google.colab.output.renderOutput(dataTable, element);\n",
       "          const docLink = document.createElement('div');\n",
       "          docLink.innerHTML = docLinkHtml;\n",
       "          element.appendChild(docLink);\n",
       "        }\n",
       "      </script>\n",
       "    </div>\n",
       "  </div>\n",
       "  "
      ],
      "text/plain": [
       "    Unnamed: 0                                              Title  \\\n",
       "13          13        loadable kernel module notification manager   \n",
       "45          45  eclipse indigo allow override non activity ove...   \n",
       "52          52    android v webview loaddatawithbaseurl load page   \n",
       "54          54  android changing locale within app affect firs...   \n",
       "58          58          android client socket unknowhostexception   \n",
       "\n",
       "             Tags  tag_count  \\\n",
       "13        android          1   \n",
       "45        android          1   \n",
       "52        android          1   \n",
       "54   java android          2   \n",
       "58   java android          2   \n",
       "\n",
       "                                          description  \\\n",
       "13  ive successfully created installed loadable ke...   \n",
       "45  i using eclipse indigo android development the...   \n",
       "52  when im loading page using system load page on...   \n",
       "54  i use code bellow setcontentview main activity...   \n",
       "58  i working server application java multithreade...   \n",
       "\n",
       "                                 code  \n",
       "13                                     \n",
       "45                                     \n",
       "52                          .loadData  \n",
       "54  Locale locale = new Locale(\"ar\");  \n",
       "58                                     "
      ]
     },
     "execution_count": 15,
     "metadata": {},
     "output_type": "execute_result"
    }
   ],
   "source": [
    "dataset.head()"
   ]
  },
  {
   "cell_type": "code",
   "execution_count": 16,
   "metadata": {
    "id": "FUyoJLyejn7Y"
   },
   "outputs": [],
   "source": [
    "vectorizer = CountVectorizer(tokenizer = lambda x: x.split(), binary='true')\n",
    "y_multilabel = vectorizer.fit_transform(dataset['Tags'])"
   ]
  },
  {
   "cell_type": "code",
   "execution_count": 17,
   "metadata": {
    "colab": {
     "base_uri": "https://localhost:8080/"
    },
    "id": "dElnX_fi9I0t",
    "outputId": "72a7755c-09e1-420a-bcfc-97dfa487bda5"
   },
   "outputs": [
    {
     "name": "stdout",
     "output_type": "stream",
     "text": [
      "Number of data points in training data : 25392\n",
      "Number of data points in test data : 6348\n"
     ]
    }
   ],
   "source": [
    "x_train, x_test, y_train, y_test = train_test_split(dataset, y_multilabel, test_size = 0.2, random_state = 42)\n",
    "\n",
    "print(\"Number of data points in training data :\", x_train.shape[0])\n",
    "print(\"Number of data points in test data :\", x_test.shape[0])"
   ]
  },
  {
   "cell_type": "code",
   "execution_count": 18,
   "metadata": {
    "id": "JScPB81o9I4f"
   },
   "outputs": [],
   "source": [
    "vectorizer = TfidfVectorizer(tokenizer = lambda x: x.split())\n",
    "\n",
    "x_train_multilabel = vectorizer.fit_transform(x_train[\"Title\"])\n",
    "x_test_multilabel = vectorizer.transform(x_test[\"Title\"])"
   ]
  },
  {
   "cell_type": "code",
   "execution_count": 19,
   "metadata": {
    "colab": {
     "base_uri": "https://localhost:8080/"
    },
    "id": "6BK6a0hE9ieV",
    "outputId": "8c506252-2c70-4f33-d3c6-b317d3f6e50c"
   },
   "outputs": [
    {
     "name": "stdout",
     "output_type": "stream",
     "text": [
      "Training data shape X :  (25392, 15127) Y : (25392, 10)\n",
      "Test data shape X :  (6348, 15127) Y: (6348, 10)\n"
     ]
    }
   ],
   "source": [
    "print(\"Training data shape X : \", x_train_multilabel.shape, \"Y :\", y_train.shape)\n",
    "print(\"Test data shape X : \", x_test_multilabel.shape, \"Y:\", y_test.shape)"
   ]
  },
  {
   "cell_type": "markdown",
   "metadata": {
    "id": "_Xo_BOfuWIS2"
   },
   "source": [
    "# **Designed Neural Network**"
   ]
  },
  {
   "cell_type": "code",
   "execution_count": 20,
   "metadata": {
    "id": "JELuP-_gWL2C"
   },
   "outputs": [],
   "source": [
    "import torch.optim as optim\n",
    "import torch.nn as nn\n",
    "import torch\n",
    "from torch.optim import Adam\n",
    "from torch.utils.data import DataLoader"
   ]
  },
  {
   "cell_type": "code",
   "execution_count": 21,
   "metadata": {
    "id": "TFGDoxlVZ1ZI"
   },
   "outputs": [],
   "source": [
    "x_train_multilabel=x_train_multilabel.todense()\n",
    "x_train_multilabel = torch.tensor(x_train_multilabel).type(torch.FloatTensor)\n",
    "y_train = y_train.todense()\n",
    "y_train = torch.tensor(y_train).type(torch.FloatTensor)"
   ]
  },
  {
   "cell_type": "code",
   "execution_count": 22,
   "metadata": {
    "colab": {
     "base_uri": "https://localhost:8080/"
    },
    "id": "391U8DaHrihY",
    "outputId": "ae87b465-547e-45e7-bdf6-de1c2e1e7b25"
   },
   "outputs": [
    {
     "data": {
      "text/plain": [
       "torch.Size([25392, 15127])"
      ]
     },
     "execution_count": 22,
     "metadata": {},
     "output_type": "execute_result"
    }
   ],
   "source": [
    "x_train_multilabel.shape"
   ]
  },
  {
   "cell_type": "code",
   "execution_count": 23,
   "metadata": {
    "colab": {
     "base_uri": "https://localhost:8080/"
    },
    "id": "FhEftv2daRLL",
    "outputId": "0cacbdd6-de85-4abb-b4d7-183af428dd95"
   },
   "outputs": [
    {
     "data": {
      "text/plain": [
       "torch.Size([25392, 10])"
      ]
     },
     "execution_count": 23,
     "metadata": {},
     "output_type": "execute_result"
    }
   ],
   "source": [
    "y_train.shape"
   ]
  },
  {
   "cell_type": "code",
   "execution_count": 24,
   "metadata": {
    "id": "_OJmX3koWuhC"
   },
   "outputs": [],
   "source": [
    "x_y_concat = zip(x_train_multilabel,y_train)\n",
    "x_y_concat = list(x_y_concat)"
   ]
  },
  {
   "cell_type": "code",
   "execution_count": 25,
   "metadata": {
    "id": "OrYq33XiW9o-"
   },
   "outputs": [],
   "source": [
    "batch_size =64\n",
    "trainDataLoader = DataLoader(x_y_concat, shuffle=True,batch_size=batch_size)"
   ]
  },
  {
   "cell_type": "code",
   "execution_count": 26,
   "metadata": {
    "id": "c7hjQPOGWL8z"
   },
   "outputs": [],
   "source": [
    "class DNN(nn.Module):\n",
    "\n",
    "    def __init__(self,num_features):\n",
    "        super(DNN, self).__init__()\n",
    "        \n",
    "        self.fc1 = nn.Linear(num_features, 256)\n",
    "        self.fc2 = nn.Linear(256, 128)\n",
    "        self.fc3 = nn.Linear(128, 10)\n",
    "\n",
    "        \n",
    "        self.relu = nn.ReLU()\n",
    "        self.Sigmoid = torch.nn.Sigmoid()\n",
    "\n",
    "      \n",
    "    def forward(self, x):\n",
    "        #print(x.type)\n",
    "\n",
    "        x = self.fc1(x)\n",
    "        x = self.relu(x) \n",
    "\n",
    "        x = self.fc2(x)\n",
    "        x = self.relu(x)\n",
    "        \n",
    "        x = self.fc3(x)\n",
    "        x = self.Sigmoid(x)\n",
    "\n",
    "        return x"
   ]
  },
  {
   "cell_type": "code",
   "execution_count": 27,
   "metadata": {
    "id": "jD7p9SrRWMDO"
   },
   "outputs": [],
   "source": [
    "n_epochs = 10\n",
    "learning_rate = 0.001\n",
    "\n",
    "device = torch.device(\"cuda\" if torch.cuda.is_available() else \"cpu\")"
   ]
  },
  {
   "cell_type": "code",
   "execution_count": 28,
   "metadata": {
    "id": "vLMPl04DWYwE"
   },
   "outputs": [],
   "source": [
    "#loss_model = torch.nn.CrossEntropyLoss()\n",
    "num_features = 15127\n",
    "model_DNN = DNN(num_features).to(device)\n",
    "opt = Adam(model_DNN.parameters(), lr= learning_rate)\n",
    "lossFn = nn.BCELoss()"
   ]
  },
  {
   "cell_type": "code",
   "execution_count": 29,
   "metadata": {
    "colab": {
     "base_uri": "https://localhost:8080/"
    },
    "id": "c3YqwFvrfJZM",
    "outputId": "d4a42c72-783e-4e26-f9d2-5c0ebbf8d9dd"
   },
   "outputs": [
    {
     "data": {
      "text/plain": [
       "DNN(\n",
       "  (fc1): Linear(in_features=15127, out_features=256, bias=True)\n",
       "  (fc2): Linear(in_features=256, out_features=128, bias=True)\n",
       "  (fc3): Linear(in_features=128, out_features=10, bias=True)\n",
       "  (relu): ReLU()\n",
       "  (Sigmoid): Sigmoid()\n",
       ")"
      ]
     },
     "execution_count": 29,
     "metadata": {},
     "output_type": "execute_result"
    }
   ],
   "source": [
    "model_DNN"
   ]
  },
  {
   "cell_type": "code",
   "execution_count": 30,
   "metadata": {
    "colab": {
     "base_uri": "https://localhost:8080/"
    },
    "id": "KUGlxqEiWY0j",
    "outputId": "47ad3394-abe2-4ffd-82ae-94073bf47ae7"
   },
   "outputs": [
    {
     "name": "stdout",
     "output_type": "stream",
     "text": [
      "epoch= 0\n",
      "epoch= 1\n",
      "epoch= 2\n",
      "epoch= 3\n",
      "epoch= 4\n",
      "epoch= 5\n",
      "epoch= 6\n",
      "epoch= 7\n",
      "epoch= 8\n",
      "epoch= 9\n"
     ]
    }
   ],
   "source": [
    "for e in range(0, n_epochs):\n",
    "  \n",
    "  model_DNN.train()\n",
    "\n",
    "  print(f\"epoch= {e}\")\n",
    "\n",
    "  for (x, y) in trainDataLoader:\n",
    "\t\t# send the input to the device\n",
    "    (x, y) = (x.to(device), y.to(device))\n",
    "\n",
    "    # perform a forward pass and calculate the training loss\n",
    "    pred = model_DNN(x)\n",
    "    loss = lossFn(pred, y)\n",
    "\n",
    "\t\t# zero out the gradients, perform the backpropagation step,\n",
    "\t\t# and update the weights\n",
    "    opt.zero_grad()\n",
    "    loss.backward()\n",
    "    opt.step()\n"
   ]
  },
  {
   "cell_type": "code",
   "execution_count": 31,
   "metadata": {
    "id": "-dckndjd28xr"
   },
   "outputs": [],
   "source": [
    "x_test_multilabel = x_test_multilabel.todense()\n",
    "x_test_multilabel = torch.tensor(x_test_multilabel).type(torch.FloatTensor)\n",
    "y_test = y_test.todense()\n",
    "y_test = torch.tensor(y_test).type(torch.FloatTensor)"
   ]
  },
  {
   "cell_type": "code",
   "execution_count": 32,
   "metadata": {
    "id": "cVb4qsHOWY2-"
   },
   "outputs": [],
   "source": [
    "model_DNN.eval()\n",
    "\n",
    "output = model_DNN(x_test_multilabel.to(device))\n",
    " \n",
    "output=output.round()"
   ]
  },
  {
   "cell_type": "code",
   "execution_count": 33,
   "metadata": {
    "id": "ZbeBYWax5kMm"
   },
   "outputs": [],
   "source": [
    "output =output.cpu()\n",
    "output= output.detach().numpy()\n",
    "y_test = y_test.cpu()\n",
    "y_test= y_test.detach().numpy()"
   ]
  },
  {
   "cell_type": "code",
   "execution_count": 34,
   "metadata": {
    "colab": {
     "base_uri": "https://localhost:8080/"
    },
    "id": "qvbiP1ub8f1V",
    "outputId": "c8172432-974b-4893-e471-df065daca6fb"
   },
   "outputs": [
    {
     "name": "stdout",
     "output_type": "stream",
     "text": [
      "Accuracy:  0.5108695652173914\n",
      "Macro f1 score:  0.6309677364916539\n",
      "Micro f1 scoore:  0.6565843914966473\n",
      "Hamming loss:  0.0758349086326402\n"
     ]
    }
   ],
   "source": [
    "print(\"Accuracy: \", metrics.accuracy_score(y_test, output))\n",
    "print(\"Macro f1 score: \", metrics.f1_score(y_test, output, average = 'macro'))\n",
    "print(\"Micro f1 scoore: \", metrics.f1_score(y_test, output, average = 'micro'))\n",
    "print(\"Hamming loss: \", metrics.hamming_loss(y_test, output))"
   ]
  }
 ],
 "metadata": {
  "accelerator": "GPU",
  "colab": {
   "provenance": []
  },
  "gpuClass": "standard",
  "kernelspec": {
   "display_name": "Python 3 (ipykernel)",
   "language": "python",
   "name": "python3"
  },
  "language_info": {
   "codemirror_mode": {
    "name": "ipython",
    "version": 3
   },
   "file_extension": ".py",
   "mimetype": "text/x-python",
   "name": "python",
   "nbconvert_exporter": "python",
   "pygments_lexer": "ipython3",
   "version": "3.9.12"
  }
 },
 "nbformat": 4,
 "nbformat_minor": 1
}
