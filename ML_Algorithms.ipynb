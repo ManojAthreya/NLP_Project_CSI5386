{
  "cells": [
    {
      "cell_type": "code",
      "execution_count": 1,
      "metadata": {
        "id": "FbYlSTHHRBel"
      },
      "outputs": [],
      "source": [
        "import pandas as pd\n",
        "from sklearn.feature_extraction.text import CountVectorizer\n",
        "from sklearn.feature_extraction.text import TfidfVectorizer\n",
        "from sklearn.model_selection import train_test_split\n",
        "from sklearn.neural_network import MLPClassifier\n",
        "from sklearn import metrics\n",
        "from sklearn.metrics import f1_score, precision_score, recall_score"
      ]
    },
    {
      "cell_type": "code",
      "execution_count": 2,
      "metadata": {
        "colab": {
          "base_uri": "https://localhost:8080/"
        },
        "id": "F0-jAZugP4Ay",
        "outputId": "ed761439-e417-4e02-ef5f-ff0fe1cf2872"
      },
      "outputs": [
        {
          "output_type": "stream",
          "name": "stdout",
          "text": [
            "Mounted at /content/drive\n"
          ]
        }
      ],
      "source": [
        "from google.colab import drive\n",
        "drive.mount('/content/drive')"
      ]
    },
    {
      "cell_type": "code",
      "execution_count": 3,
      "metadata": {
        "colab": {
          "base_uri": "https://localhost:8080/",
          "height": 206
        },
        "id": "S4P3UhPgOmiA",
        "outputId": "d9ac25df-0921-4bc7-ae38-4fcf850f1d3a"
      },
      "outputs": [
        {
          "output_type": "execute_result",
          "data": {
            "text/plain": [
              "   Unnamed: 0                                            Title         Tags  \\\n",
              "0           0  how check uploaded file image without mime type          php   \n",
              "1           1             how i replace special characters url           c#   \n",
              "2           2                  how fetch xml feed using aspnet   c# asp.net   \n",
              "3           3                    php framework url conventions          php   \n",
              "4           4      play framework auto javascript css minifier   javascript   \n",
              "\n",
              "   tag_count                                        description  \\\n",
              "0          1  id like check uploaded file image file eg png ...   \n",
              "1          1  this probably simple i simply cannot find answ...   \n",
              "2          2  ive decided convert windows phone app fetches ...   \n",
              "3          1  a lot frameworks use url conventions like grea...   \n",
              "4          1  does anyone know good play plugin automaticall...   \n",
              "\n",
              "                      code  \n",
              "0                      NaN  \n",
              "1                      NaN  \n",
              "2                      NaN  \n",
              "3  /controller/action/{id}  \n",
              "4                      NaN  "
            ],
            "text/html": [
              "\n",
              "  <div id=\"df-7d21743b-04a5-4875-a9a5-b6de2a251778\">\n",
              "    <div class=\"colab-df-container\">\n",
              "      <div>\n",
              "<style scoped>\n",
              "    .dataframe tbody tr th:only-of-type {\n",
              "        vertical-align: middle;\n",
              "    }\n",
              "\n",
              "    .dataframe tbody tr th {\n",
              "        vertical-align: top;\n",
              "    }\n",
              "\n",
              "    .dataframe thead th {\n",
              "        text-align: right;\n",
              "    }\n",
              "</style>\n",
              "<table border=\"1\" class=\"dataframe\">\n",
              "  <thead>\n",
              "    <tr style=\"text-align: right;\">\n",
              "      <th></th>\n",
              "      <th>Unnamed: 0</th>\n",
              "      <th>Title</th>\n",
              "      <th>Tags</th>\n",
              "      <th>tag_count</th>\n",
              "      <th>description</th>\n",
              "      <th>code</th>\n",
              "    </tr>\n",
              "  </thead>\n",
              "  <tbody>\n",
              "    <tr>\n",
              "      <th>0</th>\n",
              "      <td>0</td>\n",
              "      <td>how check uploaded file image without mime type</td>\n",
              "      <td>php</td>\n",
              "      <td>1</td>\n",
              "      <td>id like check uploaded file image file eg png ...</td>\n",
              "      <td>NaN</td>\n",
              "    </tr>\n",
              "    <tr>\n",
              "      <th>1</th>\n",
              "      <td>1</td>\n",
              "      <td>how i replace special characters url</td>\n",
              "      <td>c#</td>\n",
              "      <td>1</td>\n",
              "      <td>this probably simple i simply cannot find answ...</td>\n",
              "      <td>NaN</td>\n",
              "    </tr>\n",
              "    <tr>\n",
              "      <th>2</th>\n",
              "      <td>2</td>\n",
              "      <td>how fetch xml feed using aspnet</td>\n",
              "      <td>c# asp.net</td>\n",
              "      <td>2</td>\n",
              "      <td>ive decided convert windows phone app fetches ...</td>\n",
              "      <td>NaN</td>\n",
              "    </tr>\n",
              "    <tr>\n",
              "      <th>3</th>\n",
              "      <td>3</td>\n",
              "      <td>php framework url conventions</td>\n",
              "      <td>php</td>\n",
              "      <td>1</td>\n",
              "      <td>a lot frameworks use url conventions like grea...</td>\n",
              "      <td>/controller/action/{id}</td>\n",
              "    </tr>\n",
              "    <tr>\n",
              "      <th>4</th>\n",
              "      <td>4</td>\n",
              "      <td>play framework auto javascript css minifier</td>\n",
              "      <td>javascript</td>\n",
              "      <td>1</td>\n",
              "      <td>does anyone know good play plugin automaticall...</td>\n",
              "      <td>NaN</td>\n",
              "    </tr>\n",
              "  </tbody>\n",
              "</table>\n",
              "</div>\n",
              "      <button class=\"colab-df-convert\" onclick=\"convertToInteractive('df-7d21743b-04a5-4875-a9a5-b6de2a251778')\"\n",
              "              title=\"Convert this dataframe to an interactive table.\"\n",
              "              style=\"display:none;\">\n",
              "        \n",
              "  <svg xmlns=\"http://www.w3.org/2000/svg\" height=\"24px\"viewBox=\"0 0 24 24\"\n",
              "       width=\"24px\">\n",
              "    <path d=\"M0 0h24v24H0V0z\" fill=\"none\"/>\n",
              "    <path d=\"M18.56 5.44l.94 2.06.94-2.06 2.06-.94-2.06-.94-.94-2.06-.94 2.06-2.06.94zm-11 1L8.5 8.5l.94-2.06 2.06-.94-2.06-.94L8.5 2.5l-.94 2.06-2.06.94zm10 10l.94 2.06.94-2.06 2.06-.94-2.06-.94-.94-2.06-.94 2.06-2.06.94z\"/><path d=\"M17.41 7.96l-1.37-1.37c-.4-.4-.92-.59-1.43-.59-.52 0-1.04.2-1.43.59L10.3 9.45l-7.72 7.72c-.78.78-.78 2.05 0 2.83L4 21.41c.39.39.9.59 1.41.59.51 0 1.02-.2 1.41-.59l7.78-7.78 2.81-2.81c.8-.78.8-2.07 0-2.86zM5.41 20L4 18.59l7.72-7.72 1.47 1.35L5.41 20z\"/>\n",
              "  </svg>\n",
              "      </button>\n",
              "      \n",
              "  <style>\n",
              "    .colab-df-container {\n",
              "      display:flex;\n",
              "      flex-wrap:wrap;\n",
              "      gap: 12px;\n",
              "    }\n",
              "\n",
              "    .colab-df-convert {\n",
              "      background-color: #E8F0FE;\n",
              "      border: none;\n",
              "      border-radius: 50%;\n",
              "      cursor: pointer;\n",
              "      display: none;\n",
              "      fill: #1967D2;\n",
              "      height: 32px;\n",
              "      padding: 0 0 0 0;\n",
              "      width: 32px;\n",
              "    }\n",
              "\n",
              "    .colab-df-convert:hover {\n",
              "      background-color: #E2EBFA;\n",
              "      box-shadow: 0px 1px 2px rgba(60, 64, 67, 0.3), 0px 1px 3px 1px rgba(60, 64, 67, 0.15);\n",
              "      fill: #174EA6;\n",
              "    }\n",
              "\n",
              "    [theme=dark] .colab-df-convert {\n",
              "      background-color: #3B4455;\n",
              "      fill: #D2E3FC;\n",
              "    }\n",
              "\n",
              "    [theme=dark] .colab-df-convert:hover {\n",
              "      background-color: #434B5C;\n",
              "      box-shadow: 0px 1px 3px 1px rgba(0, 0, 0, 0.15);\n",
              "      filter: drop-shadow(0px 1px 2px rgba(0, 0, 0, 0.3));\n",
              "      fill: #FFFFFF;\n",
              "    }\n",
              "  </style>\n",
              "\n",
              "      <script>\n",
              "        const buttonEl =\n",
              "          document.querySelector('#df-7d21743b-04a5-4875-a9a5-b6de2a251778 button.colab-df-convert');\n",
              "        buttonEl.style.display =\n",
              "          google.colab.kernel.accessAllowed ? 'block' : 'none';\n",
              "\n",
              "        async function convertToInteractive(key) {\n",
              "          const element = document.querySelector('#df-7d21743b-04a5-4875-a9a5-b6de2a251778');\n",
              "          const dataTable =\n",
              "            await google.colab.kernel.invokeFunction('convertToInteractive',\n",
              "                                                     [key], {});\n",
              "          if (!dataTable) return;\n",
              "\n",
              "          const docLinkHtml = 'Like what you see? Visit the ' +\n",
              "            '<a target=\"_blank\" href=https://colab.research.google.com/notebooks/data_table.ipynb>data table notebook</a>'\n",
              "            + ' to learn more about interactive tables.';\n",
              "          element.innerHTML = '';\n",
              "          dataTable['output_type'] = 'display_data';\n",
              "          await google.colab.output.renderOutput(dataTable, element);\n",
              "          const docLink = document.createElement('div');\n",
              "          docLink.innerHTML = docLinkHtml;\n",
              "          element.appendChild(docLink);\n",
              "        }\n",
              "      </script>\n",
              "    </div>\n",
              "  </div>\n",
              "  "
            ]
          },
          "metadata": {},
          "execution_count": 3
        }
      ],
      "source": [
        "df = pd.read_csv(\"/content/drive/MyDrive/train_top_10_pp.csv\")\n",
        "df.head()"
      ]
    },
    {
      "cell_type": "code",
      "execution_count": 4,
      "metadata": {
        "id": "KJ_ID8GtOmoJ"
      },
      "outputs": [],
      "source": [
        "vectorizer = CountVectorizer(tokenizer = lambda x: x.split())\n",
        "tag_bow = vectorizer.fit_transform(df['Tags'])"
      ]
    },
    {
      "cell_type": "code",
      "execution_count": 5,
      "metadata": {
        "colab": {
          "base_uri": "https://localhost:8080/"
        },
        "id": "N7wxjLuLOmrg",
        "outputId": "40c90f18-b66a-4b8b-fa9e-5d6aea635faa"
      },
      "outputs": [
        {
          "output_type": "stream",
          "name": "stderr",
          "text": [
            "/usr/local/lib/python3.8/dist-packages/sklearn/utils/deprecation.py:87: FutureWarning: Function get_feature_names is deprecated; get_feature_names is deprecated in 1.0 and will be removed in 1.2. Please use get_feature_names_out instead.\n",
            "  warnings.warn(msg, category=FutureWarning)\n"
          ]
        },
        {
          "output_type": "execute_result",
          "data": {
            "text/plain": [
              "['android',\n",
              " 'asp.net',\n",
              " 'c#',\n",
              " 'c++',\n",
              " 'iphone',\n",
              " 'java',\n",
              " 'javascript',\n",
              " 'jquery',\n",
              " 'php',\n",
              " 'python']"
            ]
          },
          "metadata": {},
          "execution_count": 5
        }
      ],
      "source": [
        "tags = vectorizer.get_feature_names()\n",
        "tags"
      ]
    },
    {
      "cell_type": "code",
      "execution_count": 6,
      "metadata": {
        "colab": {
          "base_uri": "https://localhost:8080/"
        },
        "id": "arp6_BoiOmu0",
        "outputId": "bf8d0783-6144-4088-bf7d-ce466b7fd6b5"
      },
      "outputs": [
        {
          "output_type": "execute_result",
          "data": {
            "text/plain": [
              "['android',\n",
              " 'asp.net',\n",
              " 'c#',\n",
              " 'c+',\n",
              " 'iphone',\n",
              " 'java',\n",
              " 'javascript',\n",
              " 'jquery',\n",
              " 'php',\n",
              " 'python']"
            ]
          },
          "metadata": {},
          "execution_count": 6
        }
      ],
      "source": [
        "tags[3] = \"c+\"\n",
        "tags"
      ]
    },
    {
      "cell_type": "code",
      "execution_count": 7,
      "metadata": {
        "colab": {
          "base_uri": "https://localhost:8080/"
        },
        "id": "WZqoT_NKQi0c",
        "outputId": "fd3d42e6-8833-420a-97c8-39e0d0a1dfd6"
      },
      "outputs": [
        {
          "output_type": "execute_result",
          "data": {
            "text/plain": [
              "722915"
            ]
          },
          "metadata": {},
          "execution_count": 7
        }
      ],
      "source": [
        "new_df = df.loc[df['Tags'].str.contains(\"c+\")]\n",
        "len(new_df)"
      ]
    },
    {
      "cell_type": "code",
      "execution_count": 8,
      "metadata": {
        "colab": {
          "base_uri": "https://localhost:8080/"
        },
        "id": "NTNg_t7VQi3J",
        "outputId": "30329cdc-4057-4288-f097-9d26c3ad5af9"
      },
      "outputs": [
        {
          "output_type": "stream",
          "name": "stdout",
          "text": [
            "232412\n",
            "6000\n",
            "android   6000\n",
            "6000\n",
            "asp.net   11996\n",
            "6000\n",
            "c#   17156\n",
            "6000\n",
            "c+   20389\n",
            "6000\n",
            "iphone   26318\n",
            "6000\n",
            "java   29645\n",
            "6000\n",
            "javascript   32572\n",
            "6000\n",
            "jquery   36408\n",
            "6000\n",
            "php   41686\n",
            "6000\n",
            "python   47559\n"
          ]
        }
      ],
      "source": [
        "new_df = df.loc[df['Tags'].str.contains('android', case=False)]\n",
        "print(len(new_df))\n",
        "dataset=new_df[:6000]\n",
        "#print(len(dataset))\n",
        "for tag in tags:\n",
        "  new_df = df.loc[df['Tags'].str.contains(tag)]\n",
        "  new_df = new_df[:6000]\n",
        "  print(len(new_df))\n",
        "  dataset = dataset.append(new_df)\n",
        "  #duplicate_pairs = dataset.sort_values('Title', ascending=False).duplicated('Title')\n",
        "  #print(\"Total number of duplicate questions : \", duplicate_pairs.sum())\n",
        "  #dataset = dataset[~ duplicate_pairs]\n",
        "  dataset = dataset.drop_duplicates(keep='first')\n",
        "  print(tag,\" \",len(dataset))"
      ]
    },
    {
      "cell_type": "code",
      "execution_count": 9,
      "metadata": {
        "colab": {
          "base_uri": "https://localhost:8080/"
        },
        "id": "UD-JPAlwQi6Y",
        "outputId": "b239d501-c289-4ab9-d4eb-71de3c681ab6"
      },
      "outputs": [
        {
          "output_type": "execute_result",
          "data": {
            "text/plain": [
              "(47559, 6)"
            ]
          },
          "metadata": {},
          "execution_count": 9
        }
      ],
      "source": [
        "dataset.shape"
      ]
    },
    {
      "cell_type": "code",
      "execution_count": 10,
      "metadata": {
        "colab": {
          "base_uri": "https://localhost:8080/",
          "height": 320
        },
        "id": "v9zSs0J0Qi9I",
        "outputId": "08307b0a-93b4-43f4-8436-025e40d4606e"
      },
      "outputs": [
        {
          "output_type": "execute_result",
          "data": {
            "text/plain": [
              "    Unnamed: 0                                              Title  \\\n",
              "13          13        loadable kernel module notification manager   \n",
              "45          45  eclipse indigo allow override non activity ove...   \n",
              "52          52    android v webview loaddatawithbaseurl load page   \n",
              "54          54  android changing locale within app affect firs...   \n",
              "58          58          android client socket unknowhostexception   \n",
              "\n",
              "             Tags  tag_count  \\\n",
              "13        android          1   \n",
              "45        android          1   \n",
              "52        android          1   \n",
              "54   java android          2   \n",
              "58   java android          2   \n",
              "\n",
              "                                          description  \\\n",
              "13  ive successfully created installed loadable ke...   \n",
              "45  i using eclipse indigo android development the...   \n",
              "52  when im loading page using system load page on...   \n",
              "54  i use code bellow setcontentview main activity...   \n",
              "58  i working server application java multithreade...   \n",
              "\n",
              "                                 code  \n",
              "13                                NaN  \n",
              "45                                NaN  \n",
              "52                          .loadData  \n",
              "54  Locale locale = new Locale(\"ar\");  \n",
              "58                                NaN  "
            ],
            "text/html": [
              "\n",
              "  <div id=\"df-b07720ad-772a-41bf-8fed-6b82fed1912a\">\n",
              "    <div class=\"colab-df-container\">\n",
              "      <div>\n",
              "<style scoped>\n",
              "    .dataframe tbody tr th:only-of-type {\n",
              "        vertical-align: middle;\n",
              "    }\n",
              "\n",
              "    .dataframe tbody tr th {\n",
              "        vertical-align: top;\n",
              "    }\n",
              "\n",
              "    .dataframe thead th {\n",
              "        text-align: right;\n",
              "    }\n",
              "</style>\n",
              "<table border=\"1\" class=\"dataframe\">\n",
              "  <thead>\n",
              "    <tr style=\"text-align: right;\">\n",
              "      <th></th>\n",
              "      <th>Unnamed: 0</th>\n",
              "      <th>Title</th>\n",
              "      <th>Tags</th>\n",
              "      <th>tag_count</th>\n",
              "      <th>description</th>\n",
              "      <th>code</th>\n",
              "    </tr>\n",
              "  </thead>\n",
              "  <tbody>\n",
              "    <tr>\n",
              "      <th>13</th>\n",
              "      <td>13</td>\n",
              "      <td>loadable kernel module notification manager</td>\n",
              "      <td>android</td>\n",
              "      <td>1</td>\n",
              "      <td>ive successfully created installed loadable ke...</td>\n",
              "      <td>NaN</td>\n",
              "    </tr>\n",
              "    <tr>\n",
              "      <th>45</th>\n",
              "      <td>45</td>\n",
              "      <td>eclipse indigo allow override non activity ove...</td>\n",
              "      <td>android</td>\n",
              "      <td>1</td>\n",
              "      <td>i using eclipse indigo android development the...</td>\n",
              "      <td>NaN</td>\n",
              "    </tr>\n",
              "    <tr>\n",
              "      <th>52</th>\n",
              "      <td>52</td>\n",
              "      <td>android v webview loaddatawithbaseurl load page</td>\n",
              "      <td>android</td>\n",
              "      <td>1</td>\n",
              "      <td>when im loading page using system load page on...</td>\n",
              "      <td>.loadData</td>\n",
              "    </tr>\n",
              "    <tr>\n",
              "      <th>54</th>\n",
              "      <td>54</td>\n",
              "      <td>android changing locale within app affect firs...</td>\n",
              "      <td>java android</td>\n",
              "      <td>2</td>\n",
              "      <td>i use code bellow setcontentview main activity...</td>\n",
              "      <td>Locale locale = new Locale(\"ar\");</td>\n",
              "    </tr>\n",
              "    <tr>\n",
              "      <th>58</th>\n",
              "      <td>58</td>\n",
              "      <td>android client socket unknowhostexception</td>\n",
              "      <td>java android</td>\n",
              "      <td>2</td>\n",
              "      <td>i working server application java multithreade...</td>\n",
              "      <td>NaN</td>\n",
              "    </tr>\n",
              "  </tbody>\n",
              "</table>\n",
              "</div>\n",
              "      <button class=\"colab-df-convert\" onclick=\"convertToInteractive('df-b07720ad-772a-41bf-8fed-6b82fed1912a')\"\n",
              "              title=\"Convert this dataframe to an interactive table.\"\n",
              "              style=\"display:none;\">\n",
              "        \n",
              "  <svg xmlns=\"http://www.w3.org/2000/svg\" height=\"24px\"viewBox=\"0 0 24 24\"\n",
              "       width=\"24px\">\n",
              "    <path d=\"M0 0h24v24H0V0z\" fill=\"none\"/>\n",
              "    <path d=\"M18.56 5.44l.94 2.06.94-2.06 2.06-.94-2.06-.94-.94-2.06-.94 2.06-2.06.94zm-11 1L8.5 8.5l.94-2.06 2.06-.94-2.06-.94L8.5 2.5l-.94 2.06-2.06.94zm10 10l.94 2.06.94-2.06 2.06-.94-2.06-.94-.94-2.06-.94 2.06-2.06.94z\"/><path d=\"M17.41 7.96l-1.37-1.37c-.4-.4-.92-.59-1.43-.59-.52 0-1.04.2-1.43.59L10.3 9.45l-7.72 7.72c-.78.78-.78 2.05 0 2.83L4 21.41c.39.39.9.59 1.41.59.51 0 1.02-.2 1.41-.59l7.78-7.78 2.81-2.81c.8-.78.8-2.07 0-2.86zM5.41 20L4 18.59l7.72-7.72 1.47 1.35L5.41 20z\"/>\n",
              "  </svg>\n",
              "      </button>\n",
              "      \n",
              "  <style>\n",
              "    .colab-df-container {\n",
              "      display:flex;\n",
              "      flex-wrap:wrap;\n",
              "      gap: 12px;\n",
              "    }\n",
              "\n",
              "    .colab-df-convert {\n",
              "      background-color: #E8F0FE;\n",
              "      border: none;\n",
              "      border-radius: 50%;\n",
              "      cursor: pointer;\n",
              "      display: none;\n",
              "      fill: #1967D2;\n",
              "      height: 32px;\n",
              "      padding: 0 0 0 0;\n",
              "      width: 32px;\n",
              "    }\n",
              "\n",
              "    .colab-df-convert:hover {\n",
              "      background-color: #E2EBFA;\n",
              "      box-shadow: 0px 1px 2px rgba(60, 64, 67, 0.3), 0px 1px 3px 1px rgba(60, 64, 67, 0.15);\n",
              "      fill: #174EA6;\n",
              "    }\n",
              "\n",
              "    [theme=dark] .colab-df-convert {\n",
              "      background-color: #3B4455;\n",
              "      fill: #D2E3FC;\n",
              "    }\n",
              "\n",
              "    [theme=dark] .colab-df-convert:hover {\n",
              "      background-color: #434B5C;\n",
              "      box-shadow: 0px 1px 3px 1px rgba(0, 0, 0, 0.15);\n",
              "      filter: drop-shadow(0px 1px 2px rgba(0, 0, 0, 0.3));\n",
              "      fill: #FFFFFF;\n",
              "    }\n",
              "  </style>\n",
              "\n",
              "      <script>\n",
              "        const buttonEl =\n",
              "          document.querySelector('#df-b07720ad-772a-41bf-8fed-6b82fed1912a button.colab-df-convert');\n",
              "        buttonEl.style.display =\n",
              "          google.colab.kernel.accessAllowed ? 'block' : 'none';\n",
              "\n",
              "        async function convertToInteractive(key) {\n",
              "          const element = document.querySelector('#df-b07720ad-772a-41bf-8fed-6b82fed1912a');\n",
              "          const dataTable =\n",
              "            await google.colab.kernel.invokeFunction('convertToInteractive',\n",
              "                                                     [key], {});\n",
              "          if (!dataTable) return;\n",
              "\n",
              "          const docLinkHtml = 'Like what you see? Visit the ' +\n",
              "            '<a target=\"_blank\" href=https://colab.research.google.com/notebooks/data_table.ipynb>data table notebook</a>'\n",
              "            + ' to learn more about interactive tables.';\n",
              "          element.innerHTML = '';\n",
              "          dataTable['output_type'] = 'display_data';\n",
              "          await google.colab.output.renderOutput(dataTable, element);\n",
              "          const docLink = document.createElement('div');\n",
              "          docLink.innerHTML = docLinkHtml;\n",
              "          element.appendChild(docLink);\n",
              "        }\n",
              "      </script>\n",
              "    </div>\n",
              "  </div>\n",
              "  "
            ]
          },
          "metadata": {},
          "execution_count": 10
        }
      ],
      "source": [
        "dataset.head()"
      ]
    },
    {
      "cell_type": "code",
      "execution_count": 11,
      "metadata": {
        "id": "u7bbLjwWQsPF"
      },
      "outputs": [],
      "source": [
        "vectorizer = CountVectorizer(tokenizer = lambda x: x.split(), binary='true')\n",
        "y_multilabel = vectorizer.fit_transform(dataset['Tags'])"
      ]
    },
    {
      "cell_type": "code",
      "execution_count": 12,
      "metadata": {
        "colab": {
          "base_uri": "https://localhost:8080/"
        },
        "id": "rcqkJaYwQsR_",
        "outputId": "4c075683-b0d4-47d9-eecb-c790297bf251"
      },
      "outputs": [
        {
          "output_type": "stream",
          "name": "stdout",
          "text": [
            "Number of data points in training data : 38047\n",
            "Number of data points in test data : 9512\n"
          ]
        }
      ],
      "source": [
        "X_train, X_test, y_train, y_test = train_test_split(dataset, y_multilabel, test_size = 0.2, random_state = 42)\n",
        "\n",
        "print(\"Number of data points in training data :\", X_train.shape[0])\n",
        "print(\"Number of data points in test data :\", X_test.shape[0])"
      ]
    },
    {
      "cell_type": "code",
      "execution_count": 13,
      "metadata": {
        "id": "cbpn0SEIQsUu"
      },
      "outputs": [],
      "source": [
        "vectorizer = TfidfVectorizer(tokenizer = lambda x: x.split())\n",
        "\n",
        "X_train_multilabel = vectorizer.fit_transform(X_train[\"Title\"])\n",
        "X_test_multilabel = vectorizer.transform(X_test[\"Title\"])"
      ]
    },
    {
      "cell_type": "code",
      "execution_count": 14,
      "metadata": {
        "colab": {
          "base_uri": "https://localhost:8080/"
        },
        "id": "nrG2yR4rQsYA",
        "outputId": "634073b4-747d-4979-948c-064c9afa70ce"
      },
      "outputs": [
        {
          "output_type": "stream",
          "name": "stdout",
          "text": [
            "Training data shape X :  (38047, 19168) Y : (38047, 10)\n",
            "Test data shape X :  (9512, 19168) Y: (9512, 10)\n"
          ]
        }
      ],
      "source": [
        "print(\"Training data shape X : \", X_train_multilabel.shape, \"Y :\", y_train.shape)\n",
        "print(\"Test data shape X : \", X_test_multilabel.shape, \"Y:\", y_test.shape)"
      ]
    },
    {
      "cell_type": "code",
      "execution_count": null,
      "metadata": {
        "colab": {
          "base_uri": "https://localhost:8080/"
        },
        "id": "ICfoe_pQU1kC",
        "outputId": "4a010cad-0f21-4a07-b86b-e687b08cb1dd"
      },
      "outputs": [
        {
          "name": "stdout",
          "output_type": "stream",
          "text": [
            "Clf : SGDClassifier()\n",
            "Accuracy : 0.4383936080740118\n",
            "Macro f1 score : 0.5561489479962561\n",
            "Micro f1 scoore : 0.6143584768372544\n",
            "Hamming loss : 0.06686291000841042\n",
            "-----------------------------------------------------------------------------------------------------------------------\n"
          ]
        },
        {
          "name": "stderr",
          "output_type": "stream",
          "text": [
            "/usr/local/lib/python3.8/dist-packages/sklearn/linear_model/_logistic.py:814: ConvergenceWarning: lbfgs failed to converge (status=1):\n",
            "STOP: TOTAL NO. of ITERATIONS REACHED LIMIT.\n",
            "\n",
            "Increase the number of iterations (max_iter) or scale the data as shown in:\n",
            "    https://scikit-learn.org/stable/modules/preprocessing.html\n",
            "Please also refer to the documentation for alternative solver options:\n",
            "    https://scikit-learn.org/stable/modules/linear_model.html#logistic-regression\n",
            "  n_iter_i = _check_optimize_result(\n"
          ]
        },
        {
          "name": "stdout",
          "output_type": "stream",
          "text": [
            "Clf : LogisticRegression()\n",
            "Accuracy : 0.4401808242220353\n",
            "Macro f1 score : 0.577787660815859\n",
            "Micro f1 scoore : 0.6242589518615129\n",
            "Hamming loss : 0.06663162321278385\n",
            "-----------------------------------------------------------------------------------------------------------------------\n",
            "Clf : LinearSVC()\n",
            "Accuracy : 0.525336417157275\n",
            "Macro f1 score : 0.6590744822210807\n",
            "Micro f1 scoore : 0.688491213030433\n",
            "Hamming loss : 0.061122792262405384\n",
            "-----------------------------------------------------------------------------------------------------------------------\n",
            "Clf : KNeighborsClassifier()\n",
            "Accuracy : 0.3153910849453322\n",
            "Macro f1 score : 0.4342046967117428\n",
            "Micro f1 scoore : 0.47146877432489076\n",
            "Hamming loss : 0.09279857022708159\n",
            "-----------------------------------------------------------------------------------------------------------------------\n"
          ]
        }
      ],
      "source": [
        "from sklearn.linear_model import SGDClassifier\n",
        "from sklearn.linear_model import LogisticRegression\n",
        "from sklearn.svm import LinearSVC\n",
        "from sklearn.neighbors import KNeighborsClassifier\n",
        "from sklearn.multiclass import OneVsRestClassifier\n",
        "\n",
        "sgd = SGDClassifier(loss='hinge',alpha=0.01)\n",
        "lr = LogisticRegression(penalty='l2',tol=1e-4)\n",
        "svc = LinearSVC(loss='squared_hinge',C=1.0)\n",
        "knn = KNeighborsClassifier(n_neighbors=5,metric='minkowski')\n",
        "\n",
        "for classifier in [sgd, lr, svc, knn]:\n",
        "    clf = OneVsRestClassifier(classifier)\n",
        "    clf.fit(X_train_multilabel, y_train)\n",
        "    y_pred = clf.predict(X_test_multilabel)\n",
        "    print(\"Clf :\",classifier)\n",
        "    print(\"Accuracy :\",metrics.accuracy_score(y_test,y_pred))\n",
        "    print(\"Macro f1 score :\",metrics.f1_score(y_test, y_pred, average = 'macro'))\n",
        "    print(\"Micro f1 scoore :\",metrics.f1_score(y_test, y_pred, average = 'micro'))\n",
        "    print(\"Hamming loss :\",metrics.hamming_loss(y_test,y_pred))\n",
        "    print(\"-----------------------------------------------------------------------------------------------------------------------\")"
      ]
    },
    {
      "cell_type": "code",
      "execution_count": null,
      "metadata": {
        "colab": {
          "base_uri": "https://localhost:8080/"
        },
        "id": "tZrGgwwvires",
        "outputId": "bbae9a19-87db-4feb-9ff8-bf7c9fb19659"
      },
      "outputs": [
        {
          "name": "stderr",
          "output_type": "stream",
          "text": [
            "/usr/local/lib/python3.8/dist-packages/sklearn/neural_network/_multilayer_perceptron.py:692: ConvergenceWarning: Stochastic Optimizer: Maximum iterations (200) reached and the optimization hasn't converged yet.\n",
            "  warnings.warn(\n",
            "/usr/local/lib/python3.8/dist-packages/sklearn/neural_network/_multilayer_perceptron.py:692: ConvergenceWarning: Stochastic Optimizer: Maximum iterations (200) reached and the optimization hasn't converged yet.\n",
            "  warnings.warn(\n"
          ]
        },
        {
          "name": "stdout",
          "output_type": "stream",
          "text": [
            "Clf : MLPClassifier(alpha=0.05, hidden_layer_sizes=(10, 30, 10),\n",
            "              learning_rate='adaptive')\n",
            "Accuracy : 0.46604289318755254\n",
            "Macro f1 score : 0.6069107515791214\n",
            "Micro f1 scoore : 0.6324412889131622\n",
            "Hamming loss : 0.08490328006728343\n",
            "-----------------------------------------------------------------------------------------------------------------------\n",
            "Clf : GradientBoostingClassifier()\n",
            "Accuracy : 0.42378048780487804\n",
            "Macro f1 score : 0.5678862242289168\n",
            "Micro f1 scoore : 0.6034799656904791\n",
            "Hamming loss : 0.068040370058873\n",
            "-----------------------------------------------------------------------------------------------------------------------\n"
          ]
        }
      ],
      "source": [
        "from sklearn.multiclass import OneVsRestClassifier\n",
        "from sklearn.neural_network import MLPClassifier\n",
        "from sklearn.ensemble import GradientBoostingClassifier\n",
        "\n",
        "mlp = MLPClassifier(activation='relu', alpha=0.05, hidden_layer_sizes=(10, 30, 10),learning_rate='adaptive',solver='adam')\n",
        "gb = GradientBoostingClassifier(learning_rate=0.1, n_estimators=100)\n",
        "\n",
        "for classifier in [mlp, gb]:\n",
        "    clf = OneVsRestClassifier(classifier)\n",
        "    clf.fit(X_train_multilabel, y_train)\n",
        "    y_pred = clf.predict(X_test_multilabel)\n",
        "    print(\"Clf :\",classifier)\n",
        "    print(\"Accuracy :\",metrics.accuracy_score(y_test,y_pred))\n",
        "    print(\"Macro f1 score :\",metrics.f1_score(y_test, y_pred, average = 'macro'))\n",
        "    print(\"Micro f1 scoore :\",metrics.f1_score(y_test, y_pred, average = 'micro'))\n",
        "    print(\"Hamming loss :\",metrics.hamming_loss(y_test,y_pred))\n",
        "    print(\"-----------------------------------------------------------------------------------------------------------------------\")"
      ]
    },
    {
      "cell_type": "code",
      "execution_count": null,
      "metadata": {
        "colab": {
          "background_save": true,
          "base_uri": "https://localhost:8080/"
        },
        "id": "OEpRO8F7LIuX",
        "outputId": "13879ddc-a975-417f-d09f-d03a5c06013b"
      },
      "outputs": [
        {
          "name": "stdout",
          "output_type": "stream",
          "text": [
            "Clf : DecisionTreeClassifier()\n",
            "Accuracy : 0.4492220353238015\n",
            "Macro f1 score : 0.6005310933996132\n",
            "Micro f1 scoore : 0.6300925484209522\n",
            "Hamming loss : 0.08151808242220353\n",
            "-----------------------------------------------------------------------------------------------------------------------\n",
            "Clf : RandomForestClassifier(min_samples_split=10, n_estimators=1000)\n",
            "Accuracy : 0.5131412952060556\n",
            "Macro f1 score : 0.6270478874662311\n",
            "Micro f1 scoore : 0.6745795128536873\n",
            "Hamming loss : 0.060817914213624896\n",
            "-----------------------------------------------------------------------------------------------------------------------\n"
          ]
        }
      ],
      "source": [
        "from sklearn.multiclass import OneVsRestClassifier\n",
        "from sklearn.ensemble import RandomForestClassifier\n",
        "from sklearn import tree\n",
        "\n",
        "dt=tree.DecisionTreeClassifier(criterion=\"gini\",splitter=\"best\",min_samples_split=2)\n",
        "rf = RandomForestClassifier(n_estimators=1000,min_samples_split=10)\n",
        "\n",
        "for classifier in [dt,rf]:\n",
        "    clf = OneVsRestClassifier(classifier)\n",
        "    clf.fit(X_train_multilabel, y_train)\n",
        "    y_pred = clf.predict(X_test_multilabel)\n",
        "    print(\"Clf :\",classifier)\n",
        "    print(\"Accuracy :\",metrics.accuracy_score(y_test,y_pred))\n",
        "    print(\"Macro f1 score :\",metrics.f1_score(y_test, y_pred, average = 'macro'))\n",
        "    print(\"Micro f1 scoore :\",metrics.f1_score(y_test, y_pred, average = 'micro'))\n",
        "    print(\"Hamming loss :\",metrics.hamming_loss(y_test,y_pred))\n",
        "    print(\"-----------------------------------------------------------------------------------------------------------------------\")"
      ]
    },
    {
      "cell_type": "code",
      "execution_count": null,
      "metadata": {
        "id": "bJl4oP1CLddp"
      },
      "outputs": [],
      "source": []
    }
  ],
  "metadata": {
    "accelerator": "GPU",
    "colab": {
      "provenance": []
    },
    "gpuClass": "standard",
    "kernelspec": {
      "display_name": "Python 3",
      "name": "python3"
    }
  },
  "nbformat": 4,
  "nbformat_minor": 0
}